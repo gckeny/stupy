{
 "cells": [
  {
   "cell_type": "markdown",
   "metadata": {},
   "source": [
    "## 这是标题\n",
    " - 这是小标题"
   ]
  },
  {
   "cell_type": "markdown",
   "metadata": {},
   "source": [
    "$$/int_0^{+/infty} x^2 dx$$"
   ]
  },
  {
   "cell_type": "code",
   "execution_count": 4,
   "metadata": {},
   "outputs": [
    {
     "name": "stdout",
     "output_type": "stream",
     "text": [
      "1 X 1 = 1   \n",
      "1 X 2 = 2   2 X 2 = 4   \n",
      "1 X 3 = 3   2 X 3 = 6   3 X 3 = 9   \n",
      "1 X 4 = 4   2 X 4 = 8   3 X 4 = 12   4 X 4 = 16   \n",
      "1 X 5 = 5   2 X 5 = 10   3 X 5 = 15   4 X 5 = 20   5 X 5 = 25   \n",
      "1 X 6 = 6   2 X 6 = 12   3 X 6 = 18   4 X 6 = 24   5 X 6 = 30   6 X 6 = 36   \n",
      "1 X 7 = 7   2 X 7 = 14   3 X 7 = 21   4 X 7 = 28   5 X 7 = 35   6 X 7 = 42   7 X 7 = 49   \n",
      "1 X 8 = 8   2 X 8 = 16   3 X 8 = 24   4 X 8 = 32   5 X 8 = 40   6 X 8 = 48   7 X 8 = 56   8 X 8 = 64   \n",
      "1 X 9 = 9   2 X 9 = 18   3 X 9 = 27   4 X 9 = 36   5 X 9 = 45   6 X 9 = 54   7 X 9 = 63   8 X 9 = 72   9 X 9 = 81   \n"
     ]
    }
   ],
   "source": [
    "for col in range(1,10):\n",
    "    for cow in range(1,col+1):\n",
    "        print (cow,\"X\",col,\"=\",col*cow,end=\"   \")\n",
    "    print (\"\")"
   ]
  },
  {
   "cell_type": "code",
   "execution_count": 7,
   "metadata": {},
   "outputs": [
    {
     "name": "stdout",
     "output_type": "stream",
     "text": [
      "1538234486.572685\n",
      "0.00040467238252972493\n",
      "time.struct_time(tm_year=2018, tm_mon=9, tm_mday=29, tm_hour=23, tm_min=21, tm_sec=26, tm_wday=5, tm_yday=272, tm_isdst=0)\n"
     ]
    }
   ],
   "source": [
    "import time\n",
    "start = time.clock()\n",
    "print (time.time())\n",
    "for i in range(100):\n",
    "    pass\n",
    "    #print(i**2)\n",
    "end = time.clock()\n",
    "print (end - start)\n",
    "st = time.localtime()\n",
    "print (st)"
   ]
  },
  {
   "cell_type": "code",
   "execution_count": 15,
   "metadata": {},
   "outputs": [
    {
     "ename": "SyntaxError",
     "evalue": "invalid syntax (<ipython-input-15-d00b988fbb0f>, line 4)",
     "output_type": "error",
     "traceback": [
      "\u001b[1;36m  File \u001b[1;32m\"<ipython-input-15-d00b988fbb0f>\"\u001b[1;36m, line \u001b[1;32m4\u001b[0m\n\u001b[1;33m    print (m{4})\u001b[0m\n\u001b[1;37m            ^\u001b[0m\n\u001b[1;31mSyntaxError\u001b[0m\u001b[1;31m:\u001b[0m invalid syntax\n"
     ]
    }
   ],
   "source": [
    "import datetime\n",
    "print (datetime.datetime(2018,9,28))\n",
    "m = \"a\"\n",
    "print (m{4})"
   ]
  }
 ],
 "metadata": {
  "celltoolbar": "Slideshow",
  "kernelspec": {
   "display_name": "Python 3",
   "language": "python",
   "name": "python3"
  },
  "language_info": {
   "codemirror_mode": {
    "name": "ipython",
    "version": 3
   },
   "file_extension": ".py",
   "mimetype": "text/x-python",
   "name": "python",
   "nbconvert_exporter": "python",
   "pygments_lexer": "ipython3",
   "version": "3.6.5"
  }
 },
 "nbformat": 4,
 "nbformat_minor": 2
}
